{
 "cells": [
  {
   "cell_type": "code",
   "execution_count": 41,
   "metadata": {},
   "outputs": [
    {
     "data": {
      "text/plain": [
       "MongoClient(host=['localhost:27017'], document_class=dict, tz_aware=False, connect=True)"
      ]
     },
     "execution_count": 41,
     "metadata": {},
     "output_type": "execute_result"
    }
   ],
   "source": [
    "from pymongo import MongoClient\n",
    "\n",
    "# Assuming youre running mongod on 'localhost' with port 27017\n",
    "client = MongoClient('localhost', 27017)\n",
    "\n",
    "# We can also specify the host and port explicitly, as follows:\n",
    "#client = MongoClient('mongodb://localhost:27017/')\n",
    "\n",
    "client"
   ]
  },
  {
   "cell_type": "code",
   "execution_count": 42,
   "metadata": {},
   "outputs": [
    {
     "data": {
      "text/plain": [
       "[u'donorschoose', u'local', u'twtr01_db']"
      ]
     },
     "execution_count": 42,
     "metadata": {},
     "output_type": "execute_result"
    }
   ],
   "source": [
    "client.database_names()"
   ]
  },
  {
   "cell_type": "code",
   "execution_count": 44,
   "metadata": {},
   "outputs": [
    {
     "data": {
      "text/plain": [
       "Database(MongoClient(host=['localhost:27017'], document_class=dict, tz_aware=False, connect=True), u'test_database')"
      ]
     },
     "execution_count": 44,
     "metadata": {},
     "output_type": "execute_result"
    }
   ],
   "source": [
    "db = client.test_database\n",
    "db"
   ]
  },
  {
   "cell_type": "code",
   "execution_count": 45,
   "metadata": {},
   "outputs": [
    {
     "data": {
      "text/plain": [
       "Database(MongoClient(host=['localhost:27017'], document_class=dict, tz_aware=False, connect=True), u'test-database')"
      ]
     },
     "execution_count": 45,
     "metadata": {},
     "output_type": "execute_result"
    }
   ],
   "source": [
    "db = client['test-database']\n",
    "db"
   ]
  },
  {
   "cell_type": "code",
   "execution_count": 48,
   "metadata": {},
   "outputs": [
    {
     "data": {
      "text/plain": [
       "Collection(Database(MongoClient(host=['localhost:27017'], document_class=dict, tz_aware=False, connect=True), u'test-database'), u'test_collection')"
      ]
     },
     "execution_count": 48,
     "metadata": {},
     "output_type": "execute_result"
    }
   ],
   "source": [
    "collection = db.test_collection\n",
    "collection"
   ]
  },
  {
   "cell_type": "code",
   "execution_count": 49,
   "metadata": {},
   "outputs": [
    {
     "data": {
      "text/plain": [
       "Collection(Database(MongoClient(host=['localhost:27017'], document_class=dict, tz_aware=False, connect=True), u'test-database'), u'test-collection')"
      ]
     },
     "execution_count": 49,
     "metadata": {},
     "output_type": "execute_result"
    }
   ],
   "source": [
    "collection = db['test-collection']\n",
    "collection"
   ]
  },
  {
   "cell_type": "code",
   "execution_count": 50,
   "metadata": {},
   "outputs": [],
   "source": [
    "import datetime\n",
    "post = {\"author\": \"Mike\",\n",
    "\"text\": \"My first blog post!\",\n",
    "\"tags\": [\"mongodb\", \"python\", \"pymongo\"],\n",
    "\"date\": datetime.datetime.utcnow()}"
   ]
  },
  {
   "cell_type": "code",
   "execution_count": 51,
   "metadata": {},
   "outputs": [
    {
     "data": {
      "text/plain": [
       "ObjectId('5ab0413d41bce534fcfdca02')"
      ]
     },
     "execution_count": 51,
     "metadata": {},
     "output_type": "execute_result"
    }
   ],
   "source": [
    "# Inserting a Document\n",
    "# To insert a document into a collection we can use the insert_one() method:\n",
    "\n",
    "posts = db.posts\n",
    "post_id = posts.insert_one(post).inserted_id\n",
    "post_id "
   ]
  },
  {
   "cell_type": "code",
   "execution_count": 53,
   "metadata": {},
   "outputs": [
    {
     "name": "stdout",
     "output_type": "stream",
     "text": [
      "{u'_id': ObjectId('5ab0413d41bce534fcfdca02'),\n",
      " u'author': u'Mike',\n",
      " u'date': datetime.datetime(2018, 3, 19, 23, 1, 8, 510000),\n",
      " u'tags': [u'mongodb', u'python', u'pymongo'],\n",
      " u'text': u'My first blog post!'}\n"
     ]
    }
   ],
   "source": [
    "# Getting a Single Document With find_one()\n",
    "import pprint\n",
    "pprint.pprint(posts.find_one())"
   ]
  },
  {
   "cell_type": "code",
   "execution_count": 54,
   "metadata": {},
   "outputs": [
    {
     "name": "stdout",
     "output_type": "stream",
     "text": [
      "{u'_id': ObjectId('5ab0413d41bce534fcfdca02'),\n",
      " u'author': u'Mike',\n",
      " u'date': datetime.datetime(2018, 3, 19, 23, 1, 8, 510000),\n",
      " u'tags': [u'mongodb', u'python', u'pymongo'],\n",
      " u'text': u'My first blog post!'}\n"
     ]
    }
   ],
   "source": [
    "pprint.pprint(posts.find_one({\"author\": \"Mike\"}))"
   ]
  },
  {
   "cell_type": "code",
   "execution_count": 55,
   "metadata": {},
   "outputs": [
    {
     "data": {
      "text/plain": [
       "ObjectId('5ab0413d41bce534fcfdca02')"
      ]
     },
     "execution_count": 55,
     "metadata": {},
     "output_type": "execute_result"
    }
   ],
   "source": [
    "# Querying By ObjectId\n",
    "post_id"
   ]
  },
  {
   "cell_type": "code",
   "execution_count": 56,
   "metadata": {},
   "outputs": [
    {
     "name": "stdout",
     "output_type": "stream",
     "text": [
      "{u'_id': ObjectId('5ab0413d41bce534fcfdca02'),\n",
      " u'author': u'Mike',\n",
      " u'date': datetime.datetime(2018, 3, 19, 23, 1, 8, 510000),\n",
      " u'tags': [u'mongodb', u'python', u'pymongo'],\n",
      " u'text': u'My first blog post!'}\n"
     ]
    }
   ],
   "source": [
    "pprint.pprint(posts.find_one({\"_id\": post_id}))"
   ]
  },
  {
   "cell_type": "code",
   "execution_count": 57,
   "metadata": {},
   "outputs": [],
   "source": [
    "post_id_as_str = str(post_id)\n",
    "posts.find_one({\"_id\": post_id_as_str}) # No result"
   ]
  },
  {
   "cell_type": "code",
   "execution_count": null,
   "metadata": {},
   "outputs": [],
   "source": [
    "'''\n",
    "A common task in web applications is to get an ObjectId from the request URL and find the matching document. \n",
    "It’s necessary in this case to convert the ObjectId from a string before passing it to find_one:\n",
    "'''\n",
    "from bson.objectid import ObjectId\n",
    "\n",
    "# The web framework gets post_id from the URL and passes it as a string\n",
    "def get(post_id):\n",
    "    # Convert from string to ObjectId:\n",
    "    document = client.db.collection.find_one({'_id': ObjectId(post_id)})"
   ]
  },
  {
   "cell_type": "code",
   "execution_count": null,
   "metadata": {},
   "outputs": [],
   "source": []
  },
  {
   "cell_type": "code",
   "execution_count": 58,
   "metadata": {},
   "outputs": [
    {
     "data": {
      "text/plain": [
       "[ObjectId('5ab0420941bce534fcfdca03'), ObjectId('5ab0420941bce534fcfdca04')]"
      ]
     },
     "execution_count": 58,
     "metadata": {},
     "output_type": "execute_result"
    }
   ],
   "source": [
    "#Bulk Inserts\n",
    "\n",
    "new_posts = [{\"author\": \"Mike\",\n",
    "                \"text\": \"Another post!\",\n",
    "                \"tags\": [\"bulk\", \"insert\"],\n",
    "                \"date\": datetime.datetime(2009, 11, 12, 11, 14)},\n",
    "                 {\"author\": \"Eliot\",\n",
    "                \"title\": \"MongoDB is fun\",\n",
    "                \"text\": \"and pretty easy too!\",\n",
    "                \"date\": datetime.datetime(2009, 11, 10, 10, 45)}]\n",
    "\n",
    "result = posts.insert_many(new_posts)\n",
    "result.inserted_ids"
   ]
  },
  {
   "cell_type": "code",
   "execution_count": 59,
   "metadata": {},
   "outputs": [
    {
     "name": "stdout",
     "output_type": "stream",
     "text": [
      "{u'_id': ObjectId('5ab0413d41bce534fcfdca02'),\n",
      " u'author': u'Mike',\n",
      " u'date': datetime.datetime(2018, 3, 19, 23, 1, 8, 510000),\n",
      " u'tags': [u'mongodb', u'python', u'pymongo'],\n",
      " u'text': u'My first blog post!'}\n",
      "{u'_id': ObjectId('5ab0420941bce534fcfdca03'),\n",
      " u'author': u'Mike',\n",
      " u'date': datetime.datetime(2009, 11, 12, 11, 14),\n",
      " u'tags': [u'bulk', u'insert'],\n",
      " u'text': u'Another post!'}\n",
      "{u'_id': ObjectId('5ab0420941bce534fcfdca04'),\n",
      " u'author': u'Eliot',\n",
      " u'date': datetime.datetime(2009, 11, 10, 10, 45),\n",
      " u'text': u'and pretty easy too!',\n",
      " u'title': u'MongoDB is fun'}\n"
     ]
    }
   ],
   "source": [
    "# Querying for More Than One Document\n",
    "for post in posts.find():\n",
    "    pprint.pprint(post)"
   ]
  },
  {
   "cell_type": "code",
   "execution_count": 60,
   "metadata": {},
   "outputs": [
    {
     "name": "stdout",
     "output_type": "stream",
     "text": [
      "{u'_id': ObjectId('5ab0413d41bce534fcfdca02'),\n",
      " u'author': u'Mike',\n",
      " u'date': datetime.datetime(2018, 3, 19, 23, 1, 8, 510000),\n",
      " u'tags': [u'mongodb', u'python', u'pymongo'],\n",
      " u'text': u'My first blog post!'}\n",
      "{u'_id': ObjectId('5ab0420941bce534fcfdca03'),\n",
      " u'author': u'Mike',\n",
      " u'date': datetime.datetime(2009, 11, 12, 11, 14),\n",
      " u'tags': [u'bulk', u'insert'],\n",
      " u'text': u'Another post!'}\n"
     ]
    }
   ],
   "source": [
    "for post in posts.find({\"author\": \"Mike\"}):\n",
    "    pprint.pprint(post)"
   ]
  },
  {
   "cell_type": "code",
   "execution_count": 61,
   "metadata": {},
   "outputs": [
    {
     "data": {
      "text/plain": [
       "3"
      ]
     },
     "execution_count": 61,
     "metadata": {},
     "output_type": "execute_result"
    }
   ],
   "source": [
    "# counting\n",
    "# If we just want to know how many documents match a query we can perform a count() operation instead of a full query. \n",
    "# We can get a count of all of the documents in a collection:\n",
    "posts.count()"
   ]
  },
  {
   "cell_type": "code",
   "execution_count": 62,
   "metadata": {},
   "outputs": [
    {
     "data": {
      "text/plain": [
       "2"
      ]
     },
     "execution_count": 62,
     "metadata": {},
     "output_type": "execute_result"
    }
   ],
   "source": [
    "# or just of those documents that match a specific query\n",
    "posts.find({\"author\": \"Mike\"}).count()"
   ]
  },
  {
   "cell_type": "code",
   "execution_count": 63,
   "metadata": {},
   "outputs": [
    {
     "name": "stdout",
     "output_type": "stream",
     "text": [
      "{u'_id': ObjectId('5ab0420941bce534fcfdca04'),\n",
      " u'author': u'Eliot',\n",
      " u'date': datetime.datetime(2009, 11, 10, 10, 45),\n",
      " u'text': u'and pretty easy too!',\n",
      " u'title': u'MongoDB is fun'}\n",
      "{u'_id': ObjectId('5ab0420941bce534fcfdca03'),\n",
      " u'author': u'Mike',\n",
      " u'date': datetime.datetime(2009, 11, 12, 11, 14),\n",
      " u'tags': [u'bulk', u'insert'],\n",
      " u'text': u'Another post!'}\n"
     ]
    }
   ],
   "source": [
    "# Range Queries\n",
    "d = datetime.datetime(2009, 11, 12, 12)\n",
    "for post in posts.find({\"date\": {\"$lt\": d}}).sort(\"author\"):\n",
    "    pprint.pprint(post)"
   ]
  },
  {
   "cell_type": "code",
   "execution_count": 64,
   "metadata": {},
   "outputs": [
    {
     "data": {
      "text/plain": [
       "[u'_id_', u'user_id_1']"
      ]
     },
     "execution_count": 64,
     "metadata": {},
     "output_type": "execute_result"
    }
   ],
   "source": [
    "# Index\n",
    "result = db.profiles.create_index([('user_id', pymongo.ASCENDING)], unique=True)\n",
    "sorted(list(db.profiles.index_information()))"
   ]
  },
  {
   "cell_type": "code",
   "execution_count": 65,
   "metadata": {},
   "outputs": [
    {
     "data": {
      "text/plain": [
       "<pymongo.results.InsertManyResult at 0x942fc48>"
      ]
     },
     "execution_count": 65,
     "metadata": {},
     "output_type": "execute_result"
    }
   ],
   "source": [
    "user_profiles = [{'user_id': 211, 'name': 'Luke'}, {'user_id': 212, 'name': 'Ziltoid'}]\n",
    "result = db.profiles.insert_many(user_profiles)\n",
    "result"
   ]
  },
  {
   "cell_type": "code",
   "execution_count": 66,
   "metadata": {},
   "outputs": [
    {
     "ename": "DuplicateKeyError",
     "evalue": "E11000 duplicate key error collection: test-database.profiles index: user_id_1 dup key: { : 212 }",
     "output_type": "error",
     "traceback": [
      "\u001b[1;31m---------------------------------------------------------------------------\u001b[0m",
      "\u001b[1;31mDuplicateKeyError\u001b[0m                         Traceback (most recent call last)",
      "\u001b[1;32m<ipython-input-66-06c84a0ba491>\u001b[0m in \u001b[0;36m<module>\u001b[1;34m()\u001b[0m\n\u001b[0;32m      2\u001b[0m \u001b[0mduplicate_profile\u001b[0m \u001b[1;33m=\u001b[0m \u001b[1;33m{\u001b[0m\u001b[1;34m'user_id'\u001b[0m\u001b[1;33m:\u001b[0m \u001b[1;36m212\u001b[0m\u001b[1;33m,\u001b[0m \u001b[1;34m'name'\u001b[0m\u001b[1;33m:\u001b[0m \u001b[1;34m'Tommy'\u001b[0m\u001b[1;33m}\u001b[0m\u001b[1;33m\u001b[0m\u001b[0m\n\u001b[0;32m      3\u001b[0m \u001b[0mresult\u001b[0m \u001b[1;33m=\u001b[0m \u001b[0mdb\u001b[0m\u001b[1;33m.\u001b[0m\u001b[0mprofiles\u001b[0m\u001b[1;33m.\u001b[0m\u001b[0minsert_one\u001b[0m\u001b[1;33m(\u001b[0m\u001b[0mnew_profile\u001b[0m\u001b[1;33m)\u001b[0m  \u001b[1;31m# This is fine.\u001b[0m\u001b[1;33m\u001b[0m\u001b[0m\n\u001b[1;32m----> 4\u001b[1;33m \u001b[0mresult\u001b[0m \u001b[1;33m=\u001b[0m \u001b[0mdb\u001b[0m\u001b[1;33m.\u001b[0m\u001b[0mprofiles\u001b[0m\u001b[1;33m.\u001b[0m\u001b[0minsert_one\u001b[0m\u001b[1;33m(\u001b[0m\u001b[0mduplicate_profile\u001b[0m\u001b[1;33m)\u001b[0m\u001b[1;33m\u001b[0m\u001b[0m\n\u001b[0m\u001b[0;32m      5\u001b[0m \u001b[0mresult\u001b[0m\u001b[1;33m\u001b[0m\u001b[0m\n",
      "\u001b[1;32mc:\\python27\\lib\\site-packages\\pymongo\\collection.pyc\u001b[0m in \u001b[0;36minsert_one\u001b[1;34m(self, document, bypass_document_validation, session)\u001b[0m\n\u001b[0;32m    680\u001b[0m             self._insert(document,\n\u001b[0;32m    681\u001b[0m                          \u001b[0mbypass_doc_val\u001b[0m\u001b[1;33m=\u001b[0m\u001b[0mbypass_document_validation\u001b[0m\u001b[1;33m,\u001b[0m\u001b[1;33m\u001b[0m\u001b[0m\n\u001b[1;32m--> 682\u001b[1;33m                          session=session),\n\u001b[0m\u001b[0;32m    683\u001b[0m             self.write_concern.acknowledged)\n\u001b[0;32m    684\u001b[0m \u001b[1;33m\u001b[0m\u001b[0m\n",
      "\u001b[1;32mc:\\python27\\lib\\site-packages\\pymongo\\collection.pyc\u001b[0m in \u001b[0;36m_insert\u001b[1;34m(self, docs, ordered, check_keys, manipulate, write_concern, op_id, bypass_doc_val, session)\u001b[0m\n\u001b[0;32m    596\u001b[0m             return self._insert_one(\n\u001b[0;32m    597\u001b[0m                 \u001b[0mdocs\u001b[0m\u001b[1;33m,\u001b[0m \u001b[0mordered\u001b[0m\u001b[1;33m,\u001b[0m \u001b[0mcheck_keys\u001b[0m\u001b[1;33m,\u001b[0m \u001b[0mmanipulate\u001b[0m\u001b[1;33m,\u001b[0m \u001b[0mwrite_concern\u001b[0m\u001b[1;33m,\u001b[0m \u001b[0mop_id\u001b[0m\u001b[1;33m,\u001b[0m\u001b[1;33m\u001b[0m\u001b[0m\n\u001b[1;32m--> 598\u001b[1;33m                 bypass_doc_val, session)\n\u001b[0m\u001b[0;32m    599\u001b[0m \u001b[1;33m\u001b[0m\u001b[0m\n\u001b[0;32m    600\u001b[0m         \u001b[0mids\u001b[0m \u001b[1;33m=\u001b[0m \u001b[1;33m[\u001b[0m\u001b[1;33m]\u001b[0m\u001b[1;33m\u001b[0m\u001b[0m\n",
      "\u001b[1;32mc:\\python27\\lib\\site-packages\\pymongo\\collection.pyc\u001b[0m in \u001b[0;36m_insert_one\u001b[1;34m(self, doc, ordered, check_keys, manipulate, write_concern, op_id, bypass_doc_val, session)\u001b[0m\n\u001b[0;32m    577\u001b[0m             result = self.__database.client._retryable_write(\n\u001b[0;32m    578\u001b[0m                 True, _insert_command, session)\n\u001b[1;32m--> 579\u001b[1;33m             \u001b[0m_check_write_command_response\u001b[0m\u001b[1;33m(\u001b[0m\u001b[0mresult\u001b[0m\u001b[1;33m)\u001b[0m\u001b[1;33m\u001b[0m\u001b[0m\n\u001b[0m\u001b[0;32m    580\u001b[0m         \u001b[1;32melse\u001b[0m\u001b[1;33m:\u001b[0m\u001b[1;33m\u001b[0m\u001b[0m\n\u001b[0;32m    581\u001b[0m             \u001b[1;32mwith\u001b[0m \u001b[0mself\u001b[0m\u001b[1;33m.\u001b[0m\u001b[0m_socket_for_writes\u001b[0m\u001b[1;33m(\u001b[0m\u001b[1;33m)\u001b[0m \u001b[1;32mas\u001b[0m \u001b[0msock_info\u001b[0m\u001b[1;33m:\u001b[0m\u001b[1;33m\u001b[0m\u001b[0m\n",
      "\u001b[1;32mc:\\python27\\lib\\site-packages\\pymongo\\helpers.pyc\u001b[0m in \u001b[0;36m_check_write_command_response\u001b[1;34m(result)\u001b[0m\n\u001b[0;32m    206\u001b[0m     \u001b[0mwrite_errors\u001b[0m \u001b[1;33m=\u001b[0m \u001b[0mresult\u001b[0m\u001b[1;33m.\u001b[0m\u001b[0mget\u001b[0m\u001b[1;33m(\u001b[0m\u001b[1;34m\"writeErrors\"\u001b[0m\u001b[1;33m)\u001b[0m\u001b[1;33m\u001b[0m\u001b[0m\n\u001b[0;32m    207\u001b[0m     \u001b[1;32mif\u001b[0m \u001b[0mwrite_errors\u001b[0m\u001b[1;33m:\u001b[0m\u001b[1;33m\u001b[0m\u001b[0m\n\u001b[1;32m--> 208\u001b[1;33m         \u001b[0m_raise_last_write_error\u001b[0m\u001b[1;33m(\u001b[0m\u001b[0mwrite_errors\u001b[0m\u001b[1;33m)\u001b[0m\u001b[1;33m\u001b[0m\u001b[0m\n\u001b[0m\u001b[0;32m    209\u001b[0m \u001b[1;33m\u001b[0m\u001b[0m\n\u001b[0;32m    210\u001b[0m     \u001b[0merror\u001b[0m \u001b[1;33m=\u001b[0m \u001b[0mresult\u001b[0m\u001b[1;33m.\u001b[0m\u001b[0mget\u001b[0m\u001b[1;33m(\u001b[0m\u001b[1;34m\"writeConcernError\"\u001b[0m\u001b[1;33m)\u001b[0m\u001b[1;33m\u001b[0m\u001b[0m\n",
      "\u001b[1;32mc:\\python27\\lib\\site-packages\\pymongo\\helpers.pyc\u001b[0m in \u001b[0;36m_raise_last_write_error\u001b[1;34m(write_errors)\u001b[0m\n\u001b[0;32m    187\u001b[0m     \u001b[0merror\u001b[0m \u001b[1;33m=\u001b[0m \u001b[0mwrite_errors\u001b[0m\u001b[1;33m[\u001b[0m\u001b[1;33m-\u001b[0m\u001b[1;36m1\u001b[0m\u001b[1;33m]\u001b[0m\u001b[1;33m\u001b[0m\u001b[0m\n\u001b[0;32m    188\u001b[0m     \u001b[1;32mif\u001b[0m \u001b[0merror\u001b[0m\u001b[1;33m.\u001b[0m\u001b[0mget\u001b[0m\u001b[1;33m(\u001b[0m\u001b[1;34m\"code\"\u001b[0m\u001b[1;33m)\u001b[0m \u001b[1;33m==\u001b[0m \u001b[1;36m11000\u001b[0m\u001b[1;33m:\u001b[0m\u001b[1;33m\u001b[0m\u001b[0m\n\u001b[1;32m--> 189\u001b[1;33m         \u001b[1;32mraise\u001b[0m \u001b[0mDuplicateKeyError\u001b[0m\u001b[1;33m(\u001b[0m\u001b[0merror\u001b[0m\u001b[1;33m.\u001b[0m\u001b[0mget\u001b[0m\u001b[1;33m(\u001b[0m\u001b[1;34m\"errmsg\"\u001b[0m\u001b[1;33m)\u001b[0m\u001b[1;33m,\u001b[0m \u001b[1;36m11000\u001b[0m\u001b[1;33m,\u001b[0m \u001b[0merror\u001b[0m\u001b[1;33m)\u001b[0m\u001b[1;33m\u001b[0m\u001b[0m\n\u001b[0m\u001b[0;32m    190\u001b[0m     \u001b[1;32mraise\u001b[0m \u001b[0mWriteError\u001b[0m\u001b[1;33m(\u001b[0m\u001b[0merror\u001b[0m\u001b[1;33m.\u001b[0m\u001b[0mget\u001b[0m\u001b[1;33m(\u001b[0m\u001b[1;34m\"errmsg\"\u001b[0m\u001b[1;33m)\u001b[0m\u001b[1;33m,\u001b[0m \u001b[0merror\u001b[0m\u001b[1;33m.\u001b[0m\u001b[0mget\u001b[0m\u001b[1;33m(\u001b[0m\u001b[1;34m\"code\"\u001b[0m\u001b[1;33m)\u001b[0m\u001b[1;33m,\u001b[0m \u001b[0merror\u001b[0m\u001b[1;33m)\u001b[0m\u001b[1;33m\u001b[0m\u001b[0m\n\u001b[0;32m    191\u001b[0m \u001b[1;33m\u001b[0m\u001b[0m\n",
      "\u001b[1;31mDuplicateKeyError\u001b[0m: E11000 duplicate key error collection: test-database.profiles index: user_id_1 dup key: { : 212 }"
     ]
    }
   ],
   "source": [
    "new_profile = {'user_id': 213, 'name': 'Drew'}\n",
    "duplicate_profile = {'user_id': 212, 'name': 'Tommy'}\n",
    "result = db.profiles.insert_one(new_profile)  # This is fine.\n",
    "result = db.profiles.insert_one(duplicate_profile)\n",
    "result"
   ]
  },
  {
   "cell_type": "code",
   "execution_count": 67,
   "metadata": {},
   "outputs": [],
   "source": [
    "# Alternative"
   ]
  },
  {
   "cell_type": "code",
   "execution_count": 6,
   "metadata": {},
   "outputs": [
    {
     "name": "stdout",
     "output_type": "stream",
     "text": [
      "{\"local\": [\"startup_log\"], \"twtr01_db\": [\"twtr01_coll\"], \"donorschoose\": [\"projects\"]}\n"
     ]
    }
   ],
   "source": [
    "import pymongo\n",
    "import json\n",
    "\n",
    "client = pymongo.MongoClient(\"localhost\", 27017, maxPoolSize=50)\n",
    "d = dict((db, [collection for collection in client[db].collection_names()])\n",
    "         for db in client.database_names())\n",
    "print json.dumps(d)"
   ]
  },
  {
   "cell_type": "code",
   "execution_count": 9,
   "metadata": {},
   "outputs": [
    {
     "data": {
      "text/plain": [
       "[u'twtr01_coll']"
      ]
     },
     "execution_count": 9,
     "metadata": {},
     "output_type": "execute_result"
    }
   ],
   "source": [
    "d['twtr01_db']"
   ]
  },
  {
   "cell_type": "code",
   "execution_count": 40,
   "metadata": {},
   "outputs": [],
   "source": [
    "from pprint import pprint\n",
    "\n",
    "cursor = collection.find({})\n",
    "for document in cursor: \n",
    "    pprint(document)"
   ]
  }
 ],
 "metadata": {
  "kernelspec": {
   "display_name": "Python 2",
   "language": "python",
   "name": "python2"
  },
  "language_info": {
   "codemirror_mode": {
    "name": "ipython",
    "version": 2
   },
   "file_extension": ".py",
   "mimetype": "text/x-python",
   "name": "python",
   "nbconvert_exporter": "python",
   "pygments_lexer": "ipython2",
   "version": "2.7.13"
  }
 },
 "nbformat": 4,
 "nbformat_minor": 2
}
